import numpy as np
import pandas as pd

import seaborn as sns

from sklearn.preprocessing import MinMaxScaler
import seaborn as sns
import pandas as pd

# Load the Titanic dataset from seaborn
titanic_df = sns.load_dataset('titanic')

# Display basic information about the dataset
print(titanic_df.info())

# Display the first few rows of the dataset
print(titanic_df.head())

# Check for missing values and handle them (fill with mean in this case)
titanic_df.fillna(titanic_df.mean(), inplace=True)

# Display basic statistics after handling missing values
print(titanic_df.describe())
